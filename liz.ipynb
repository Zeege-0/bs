{
 "cells": [
  {
   "cell_type": "code",
   "execution_count": 3,
   "metadata": {},
   "outputs": [
    {
     "data": {
      "text/plain": [
       "'1.10.2+rocm4.2'"
      ]
     },
     "execution_count": 3,
     "metadata": {},
     "output_type": "execute_result"
    }
   ],
   "source": [
    "import numpy as np\n",
    "import torch\n",
    "import torch.nn as nn\n",
    "torch.__version__"
   ]
  },
  {
   "cell_type": "code",
   "execution_count": 5,
   "metadata": {},
   "outputs": [],
   "source": [
    "def conv2d_bn(x, filters, ksize, d_rate, strides, padding='same', activation='relu', groups=1, name=None):\n",
    "    pass\n",
    "    # x = Conv2D(filters, kernel_size=ksize, strides=strides, padding=padding, dilation_rate=d_rate, use_bias=False)(x)\n",
    "    # x = BatchNormalization(axis=3, scale=False)(x)\n",
    "\n",
    "    # if (activation == None):\n",
    "    #     return x\n",
    "\n",
    "    # x = Activation(activation, name=name)(x)\n",
    "\n",
    "    # return x"
   ]
  },
  {
   "cell_type": "code",
   "execution_count": null,
   "metadata": {},
   "outputs": [],
   "source": [
    "class Conv2DBN(nn.Module):\n",
    "    def __init__(self, in_channels, out_channels, ksize, drate, strides, padding='same', activation='relu', name=None):\n",
    "        super(Conv2DBN, self).__init__()\n",
    "        self.conv = nn.Conv2d(in_channels, out_channels, ksize, dilation=drate, stride=strides, padding=padding, bias=False)\n",
    "        self.bn = nn.BatchNorm2d(out_channels)\n",
    "        self.activation = activation\n",
    "        self.name = name"
   ]
  }
 ],
 "metadata": {
  "interpreter": {
   "hash": "1ba0c74cb5df297b8b628ea179a9831ea28e2dcd8f2639726fa062a15810d490"
  },
  "kernelspec": {
   "display_name": "Python 3.9.10 ('base')",
   "language": "python",
   "name": "python3"
  },
  "language_info": {
   "codemirror_mode": {
    "name": "ipython",
    "version": 3
   },
   "file_extension": ".py",
   "mimetype": "text/x-python",
   "name": "python",
   "nbconvert_exporter": "python",
   "pygments_lexer": "ipython3",
   "version": "3.9.10"
  },
  "orig_nbformat": 4
 },
 "nbformat": 4,
 "nbformat_minor": 2
}
